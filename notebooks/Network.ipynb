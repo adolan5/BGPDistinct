{
 "cells": [
  {
   "cell_type": "code",
   "execution_count": 1,
   "metadata": {},
   "outputs": [],
   "source": [
    "import sys\n",
    "sys.path.append('../src/')"
   ]
  },
  {
   "cell_type": "code",
   "execution_count": 2,
   "metadata": {},
   "outputs": [],
   "source": [
    "# TODO: Add code definitions here\n",
    "import json\n",
    "import numpy as np\n",
    "import time\n",
    "import matplotlib.pyplot as plt\n",
    "import torch\n",
    "from learning import NetworkBGP\n",
    "%matplotlib inline"
   ]
  },
  {
   "cell_type": "markdown",
   "metadata": {},
   "source": [
    "## Opening Data"
   ]
  },
  {
   "cell_type": "code",
   "execution_count": 3,
   "metadata": {},
   "outputs": [
    {
     "data": {
      "text/plain": [
       "[{'time': 1542313320,\n",
       "  'composite': {'prefix': '2620:0:2f0::', 'mask': 48, 'dest': 32629},\n",
       "  'full_path': [63956, 4637, 174, 32629]},\n",
       " {'time': 1542313320,\n",
       "  'composite': {'prefix': '2a0b:d080::', 'mask': 32, 'dest': 205747},\n",
       "  'full_path': [63956, 13030, 60804, 174, 6830, 205747]},\n",
       " {'time': 1542313320,\n",
       "  'composite': {'prefix': '94.185.102.0', 'mask': 24, 'dest': 198013},\n",
       "  'full_path': [2914, 3356, 3549, 5392, 5392, 198013]}]"
      ]
     },
     "execution_count": 3,
     "metadata": {},
     "output_type": "execute_result"
    }
   ],
   "source": [
    "with open('../data/extracted_one_min_nov15.json') as f:\n",
    "    full = json.load(f)\n",
    "full[:3]"
   ]
  },
  {
   "cell_type": "markdown",
   "metadata": {},
   "source": [
    "## Creating a Network"
   ]
  },
  {
   "cell_type": "code",
   "execution_count": 4,
   "metadata": {},
   "outputs": [
    {
     "name": "stdout",
     "output_type": "stream",
     "text": [
      "There are 8768 messages to be labeled\n",
      "There are 2191 messages to be labeled\n"
     ]
    }
   ],
   "source": [
    "net_manager = NetworkBGP(full, 100)"
   ]
  },
  {
   "cell_type": "code",
   "execution_count": null,
   "metadata": {},
   "outputs": [
    {
     "data": {
      "text/plain": [
       "tensor([[-1.6611,  2.5951,  1.3881, -0.4347],\n",
       "        [-1.6611,  2.5996,  0.3207,  1.4575],\n",
       "        [-1.6611, -0.3946, -0.2130,  1.3730]], dtype=torch.float64)"
      ]
     },
     "execution_count": 5,
     "metadata": {},
     "output_type": "execute_result"
    }
   ],
   "source": [
    "net_manager.Xtrain[:3]"
   ]
  },
  {
   "cell_type": "code",
   "execution_count": null,
   "metadata": {},
   "outputs": [
    {
     "data": {
      "text/plain": [
       "DistinctNN(\n",
       "  (h1): Linear(in_features=4, out_features=100, bias=True)\n",
       "  (a1): ReLU()\n",
       "  (h2): Linear(in_features=100, out_features=100, bias=True)\n",
       "  (a2): ReLU()\n",
       "  (raw_out): Linear(in_features=100, out_features=2, bias=True)\n",
       "  (out_act): LogSoftmax()\n",
       ")"
      ]
     },
     "execution_count": 6,
     "metadata": {},
     "output_type": "execute_result"
    }
   ],
   "source": [
    "net_manager.net"
   ]
  },
  {
   "cell_type": "markdown",
   "metadata": {},
   "source": [
    "## Training the Network"
   ]
  },
  {
   "cell_type": "code",
   "execution_count": null,
   "metadata": {},
   "outputs": [],
   "source": [
    "start = time.time()\n",
    "losses = net_manager.train_network(num_iterations=200)\n",
    "print('Training took {}'.format(time.time() - start))"
   ]
  },
  {
   "cell_type": "code",
   "execution_count": null,
   "metadata": {},
   "outputs": [],
   "source": [
    "losses"
   ]
  },
  {
   "cell_type": "code",
   "execution_count": null,
   "metadata": {},
   "outputs": [],
   "source": [
    "plt.plot(losses)\n",
    "plt.ylabel('Average Error (loss)')\n",
    "plt.xlabel('Training iteration')\n",
    "plt.title('Errors During Training')\n",
    "plt.show()"
   ]
  },
  {
   "cell_type": "code",
   "execution_count": null,
   "metadata": {},
   "outputs": [],
   "source": [
    "losses[-1]"
   ]
  },
  {
   "cell_type": "markdown",
   "metadata": {},
   "source": [
    "## Testing the Network\n",
    "### Data used for Training"
   ]
  },
  {
   "cell_type": "code",
   "execution_count": null,
   "metadata": {},
   "outputs": [],
   "source": [
    "alpha=1"
   ]
  },
  {
   "cell_type": "code",
   "execution_count": null,
   "metadata": {},
   "outputs": [],
   "source": [
    "predicted = torch.max(net_manager.net(net_manager.Xtrain), 1)[1].numpy()\n",
    "actual = net_manager.Ttrain.numpy()"
   ]
  },
  {
   "cell_type": "code",
   "execution_count": null,
   "metadata": {},
   "outputs": [],
   "source": [
    "predicted"
   ]
  },
  {
   "cell_type": "code",
   "execution_count": null,
   "metadata": {},
   "outputs": [],
   "source": [
    "net_manager.net(net_manager.Xtrain)"
   ]
  },
  {
   "cell_type": "code",
   "execution_count": null,
   "metadata": {
    "scrolled": false
   },
   "outputs": [],
   "source": [
    "fig, ax = plt.subplots()\n",
    "fig.set_size_inches(10, 10)\n",
    "ax.plot(actual, 'o', alpha=alpha, label='actual')\n",
    "ax.plot(predicted, 'o', alpha=alpha, label='predicted')\n",
    "plt.legend()\n",
    "plt.ylabel('Class (1 = distinct, 0 = duplicate)')\n",
    "plt.xlabel('Data point index, ordered by time')\n",
    "plt.title('Classification for Training Set')\n",
    "plt.show()"
   ]
  },
  {
   "cell_type": "code",
   "execution_count": null,
   "metadata": {},
   "outputs": [],
   "source": [
    "actual_ones = np.where(actual.flatten() == 1)[0]\n",
    "should_be_ones = np.take(predicted, actual_ones)\n",
    "actual_ones = np.take(actual, actual_ones)\n",
    "sum(should_be_ones == actual_ones) / len(actual_ones)"
   ]
  },
  {
   "cell_type": "code",
   "execution_count": null,
   "metadata": {},
   "outputs": [],
   "source": []
  },
  {
   "cell_type": "code",
   "execution_count": null,
   "metadata": {},
   "outputs": [],
   "source": []
  },
  {
   "cell_type": "code",
   "execution_count": null,
   "metadata": {},
   "outputs": [],
   "source": []
  },
  {
   "cell_type": "markdown",
   "metadata": {},
   "source": [
    "### On New Data"
   ]
  },
  {
   "cell_type": "code",
   "execution_count": null,
   "metadata": {},
   "outputs": [],
   "source": [
    "predicted = torch.max(net_manager.net(net_manager.Xtest), 1)[1].numpy()\n",
    "actual = net_manager.Ttest.numpy()\n",
    "fig, ax = plt.subplots()\n",
    "fig.set_size_inches(10, 10)\n",
    "ax.plot(actual, 'o', alpha=alpha, label='actual')\n",
    "ax.plot(predicted, 'o', alpha=alpha, label='predicted')\n",
    "plt.legend()\n",
    "plt.ylabel('Class (1 = distinct, 0 = duplicate)')\n",
    "plt.xlabel('Data point index, ordered by time')\n",
    "plt.title('Classification for Testing Set')\n",
    "plt.show()"
   ]
  },
  {
   "cell_type": "code",
   "execution_count": null,
   "metadata": {},
   "outputs": [],
   "source": [
    "np.sum(predicted == actual.flatten()) / len(predicted)"
   ]
  },
  {
   "cell_type": "code",
   "execution_count": null,
   "metadata": {},
   "outputs": [],
   "source": [
    "actual_ones = np.where(actual.flatten() == 1)[0]\n",
    "should_be_ones = np.take(predicted, actual_ones)\n",
    "actual_ones = np.take(actual, actual_ones)\n",
    "sum(should_be_ones == actual_ones) / len(actual_ones)"
   ]
  },
  {
   "cell_type": "code",
   "execution_count": null,
   "metadata": {},
   "outputs": [],
   "source": []
  }
 ],
 "metadata": {
  "kernelspec": {
   "display_name": "Python 3",
   "language": "python",
   "name": "python3"
  },
  "language_info": {
   "codemirror_mode": {
    "name": "ipython",
    "version": 3
   },
   "file_extension": ".py",
   "mimetype": "text/x-python",
   "name": "python",
   "nbconvert_exporter": "python",
   "pygments_lexer": "ipython3",
   "version": "3.7.1"
  }
 },
 "nbformat": 4,
 "nbformat_minor": 2
}
