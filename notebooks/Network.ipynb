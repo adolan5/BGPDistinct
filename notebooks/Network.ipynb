{
 "cells": [
  {
   "cell_type": "code",
   "execution_count": 1,
   "metadata": {},
   "outputs": [],
   "source": [
    "import sys\n",
    "sys.path.append('../src/')"
   ]
  },
  {
   "cell_type": "code",
   "execution_count": 2,
   "metadata": {},
   "outputs": [],
   "source": [
    "# TODO: Add code definitions here\n",
    "import json\n",
    "import numpy as np\n",
    "import time\n",
    "import matplotlib.pyplot as plt\n",
    "import torch\n",
    "from learning import NetworkBGP\n",
    "%matplotlib inline"
   ]
  },
  {
   "cell_type": "markdown",
   "metadata": {},
   "source": [
    "## Opening Data"
   ]
  },
  {
   "cell_type": "code",
   "execution_count": 3,
   "metadata": {},
   "outputs": [
    {
     "data": {
      "text/plain": [
       "[{'time': 1542313320,\n",
       "  'composite': {'prefix': '2620:0:2f0::', 'mask': 48, 'dest': 32629},\n",
       "  'full_path': [63956, 4637, 174, 32629]},\n",
       " {'time': 1542313320,\n",
       "  'composite': {'prefix': '2a0b:d080::', 'mask': 32, 'dest': 205747},\n",
       "  'full_path': [63956, 13030, 60804, 174, 6830, 205747]},\n",
       " {'time': 1542313320,\n",
       "  'composite': {'prefix': '94.185.102.0', 'mask': 24, 'dest': 198013},\n",
       "  'full_path': [2914, 3356, 3549, 5392, 5392, 198013]}]"
      ]
     },
     "execution_count": 3,
     "metadata": {},
     "output_type": "execute_result"
    }
   ],
   "source": [
    "with open('../data/extracted_one_min_nov15.json') as f:\n",
    "    full = json.load(f)\n",
    "full[:3]"
   ]
  },
  {
   "cell_type": "markdown",
   "metadata": {},
   "source": [
    "## Creating a Network"
   ]
  },
  {
   "cell_type": "code",
   "execution_count": 85,
   "metadata": {},
   "outputs": [
    {
     "name": "stdout",
     "output_type": "stream",
     "text": [
      "There are 8768 messages to be labeled\n",
      "There are 2191 messages to be labeled\n"
     ]
    }
   ],
   "source": [
    "net_manager = NetworkBGP(full, 400, 0.1)"
   ]
  },
  {
   "cell_type": "code",
   "execution_count": 86,
   "metadata": {},
   "outputs": [
    {
     "data": {
      "text/plain": [
       "tensor([[-1.6641,  2.5938,  1.3552, -0.4355],\n",
       "        [-1.6641,  2.5983,  0.3081,  1.4532],\n",
       "        [-1.6641, -0.3952, -0.2154,  1.3688]], dtype=torch.float64)"
      ]
     },
     "execution_count": 86,
     "metadata": {},
     "output_type": "execute_result"
    }
   ],
   "source": [
    "net_manager.Xtrain[:3]"
   ]
  },
  {
   "cell_type": "code",
   "execution_count": 87,
   "metadata": {},
   "outputs": [
    {
     "data": {
      "text/plain": [
       "DistinctNN(\n",
       "  (h1): Linear(in_features=4, out_features=400, bias=True)\n",
       "  (a1): ReLU()\n",
       "  (h2): Linear(in_features=400, out_features=400, bias=True)\n",
       "  (a2): ReLU()\n",
       "  (raw_out): Linear(in_features=400, out_features=2, bias=True)\n",
       "  (out_act): LogSoftmax()\n",
       ")"
      ]
     },
     "execution_count": 87,
     "metadata": {},
     "output_type": "execute_result"
    }
   ],
   "source": [
    "net_manager.net"
   ]
  },
  {
   "cell_type": "markdown",
   "metadata": {},
   "source": [
    "## Training the Network"
   ]
  },
  {
   "cell_type": "code",
   "execution_count": 88,
   "metadata": {},
   "outputs": [
    {
     "name": "stdout",
     "output_type": "stream",
     "text": [
      "Training took 133.29466700553894\n"
     ]
    }
   ],
   "source": [
    "start = time.time()\n",
    "losses = net_manager.train_network(num_iterations=500)\n",
    "print('Training took {}'.format(time.time() - start))"
   ]
  },
  {
   "cell_type": "code",
   "execution_count": 89,
   "metadata": {},
   "outputs": [
    {
     "data": {
      "image/png": "[encoded data removed]",
      "text/plain": [
       "<Figure size 432x288 with 1 Axes>"
      ]
     },
     "metadata": {
      "needs_background": "light"
     },
     "output_type": "display_data"
    }
   ],
   "source": [
    "plt.plot(losses)\n",
    "plt.ylabel('Average Error (loss)')\n",
    "plt.xlabel('Training iteration')\n",
    "plt.title('Errors During Training')\n",
    "plt.show()"
   ]
  },
  {
   "cell_type": "code",
   "execution_count": 91,
   "metadata": {},
   "outputs": [
    {
     "data": {
      "text/plain": [
       "[array(0.38606398)]"
      ]
     },
     "execution_count": 91,
     "metadata": {},
     "output_type": "execute_result"
    }
   ],
   "source": [
    "losses[-1]"
   ]
  },
  {
   "cell_type": "markdown",
   "metadata": {},
   "source": [
    "## Testing the Network\n",
    "### Data used for Training"
   ]
  },
  {
   "cell_type": "code",
   "execution_count": 92,
   "metadata": {},
   "outputs": [],
   "source": [
    "alpha=0.1"
   ]
  },
  {
   "cell_type": "code",
   "execution_count": 93,
   "metadata": {},
   "outputs": [],
   "source": [
    "predicted = torch.max(net_manager.net(net_manager.Xtrain), 1)[1].numpy()\n",
    "actual = net_manager.Ttrain.numpy()"
   ]
  },
  {
   "cell_type": "code",
   "execution_count": 94,
   "metadata": {},
   "outputs": [
    {
     "data": {
      "text/plain": [
       "array([1, 1, 1, ..., 0, 1, 1])"
      ]
     },
     "execution_count": 94,
     "metadata": {},
     "output_type": "execute_result"
    }
   ],
   "source": [
    "predicted"
   ]
  },
  {
   "cell_type": "code",
   "execution_count": 95,
   "metadata": {},
   "outputs": [
    {
     "data": {
      "text/plain": [
       "tensor([[-3.6112, -0.0274],\n",
       "        [-0.8040, -0.5934],\n",
       "        [-3.1458, -0.0440],\n",
       "        ...,\n",
       "        [-0.0401, -3.2366],\n",
       "        [-0.8320, -0.5712],\n",
       "        [-0.8320, -0.5712]],\n",
       "       dtype=torch.float64, grad_fn=<LogSoftmaxBackward>)"
      ]
     },
     "execution_count": 95,
     "metadata": {},
     "output_type": "execute_result"
    }
   ],
   "source": [
    "net_manager.net(net_manager.Xtrain)"
   ]
  },
  {
   "cell_type": "code",
   "execution_count": 96,
   "metadata": {
    "scrolled": false
   },
   "outputs": [
    {
     "data": {
      "image/png": "[encoded data removed]",
      "text/plain": [
       "<Figure size 720x720 with 1 Axes>"
      ]
     },
     "metadata": {
      "needs_background": "light"
     },
     "output_type": "display_data"
    }
   ],
   "source": [
    "fig, ax = plt.subplots()\n",
    "fig.set_size_inches(10, 10)\n",
    "ax.plot(actual, 'o', alpha=alpha, label='actual')\n",
    "ax.plot(predicted, 'o', alpha=alpha, label='predicted')\n",
    "plt.legend()\n",
    "plt.ylabel('Class (1 = distinct, 0 = duplicate)')\n",
    "plt.xlabel('Data point index, ordered by time')\n",
    "plt.title('Classification for Training Set')\n",
    "plt.show()"
   ]
  },
  {
   "cell_type": "code",
   "execution_count": 97,
   "metadata": {},
   "outputs": [
    {
     "data": {
      "text/plain": [
       "0.8656478102189781"
      ]
     },
     "execution_count": 97,
     "metadata": {},
     "output_type": "execute_result"
    }
   ],
   "source": [
    "np.sum(predicted == actual.flatten()) / len(predicted)"
   ]
  },
  {
   "cell_type": "code",
   "execution_count": 98,
   "metadata": {},
   "outputs": [
    {
     "data": {
      "text/plain": [
       "0.790633608815427"
      ]
     },
     "execution_count": 98,
     "metadata": {},
     "output_type": "execute_result"
    }
   ],
   "source": [
    "actual_ones = np.where(actual.flatten() == 1)[0]\n",
    "should_be_ones = np.take(predicted, actual_ones)\n",
    "actual_ones = np.take(actual, actual_ones)\n",
    "sum(should_be_ones == actual_ones) / len(actual_ones)"
   ]
  },
  {
   "cell_type": "code",
   "execution_count": null,
   "metadata": {},
   "outputs": [],
   "source": []
  },
  {
   "cell_type": "code",
   "execution_count": null,
   "metadata": {},
   "outputs": [],
   "source": []
  },
  {
   "cell_type": "code",
   "execution_count": null,
   "metadata": {},
   "outputs": [],
   "source": []
  },
  {
   "cell_type": "markdown",
   "metadata": {},
   "source": [
    "### On New Data"
   ]
  },
  {
   "cell_type": "code",
   "execution_count": 99,
   "metadata": {},
   "outputs": [
    {
     "data": {
      "image/png": "[encoded data removed]",
      "text/plain": [
       "<Figure size 720x720 with 1 Axes>"
      ]
     },
     "metadata": {
      "needs_background": "light"
     },
     "output_type": "display_data"
    }
   ],
   "source": [
    "predicted = torch.max(net_manager.net(net_manager.Xtest), 1)[1].numpy()\n",
    "actual = net_manager.Ttest.numpy()\n",
    "fig, ax = plt.subplots()\n",
    "fig.set_size_inches(10, 10)\n",
    "ax.plot(actual, 'o', alpha=alpha, label='actual')\n",
    "ax.plot(predicted, 'o', alpha=alpha, label='predicted')\n",
    "plt.legend()\n",
    "plt.ylabel('Class (1 = distinct, 0 = duplicate)')\n",
    "plt.xlabel('Data point index, ordered by time')\n",
    "plt.title('Classification for Testing Set')\n",
    "plt.show()"
   ]
  },
  {
   "cell_type": "code",
   "execution_count": 100,
   "metadata": {},
   "outputs": [
    {
     "data": {
      "text/plain": [
       "0.8229119123687814"
      ]
     },
     "execution_count": 100,
     "metadata": {},
     "output_type": "execute_result"
    }
   ],
   "source": [
    "np.sum(predicted == actual.flatten()) / len(predicted)"
   ]
  },
  {
   "cell_type": "code",
   "execution_count": 101,
   "metadata": {},
   "outputs": [
    {
     "data": {
      "text/plain": [
       "0.49047619047619045"
      ]
     },
     "execution_count": 101,
     "metadata": {},
     "output_type": "execute_result"
    }
   ],
   "source": [
    "actual_ones = np.where(actual.flatten() == 1)[0]\n",
    "should_be_ones = np.take(predicted, actual_ones)\n",
    "actual_ones = np.take(actual, actual_ones)\n",
    "sum(should_be_ones == actual_ones) / len(actual_ones)"
   ]
  },
  {
   "cell_type": "code",
   "execution_count": null,
   "metadata": {},
   "outputs": [],
   "source": []
  }
 ],
 "metadata": {
  "kernelspec": {
   "display_name": "Python 3",
   "language": "python",
   "name": "python3"
  },
  "language_info": {
   "codemirror_mode": {
    "name": "ipython",
    "version": 3
   },
   "file_extension": ".py",
   "mimetype": "text/x-python",
   "name": "python",
   "nbconvert_exporter": "python",
   "pygments_lexer": "ipython3",
   "version": "3.7.1"
  }
 },
 "nbformat": 4,
 "nbformat_minor": 2
}
