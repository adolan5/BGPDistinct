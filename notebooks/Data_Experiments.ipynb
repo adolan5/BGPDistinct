{
 "cells": [
  {
   "cell_type": "markdown",
   "metadata": {},
   "source": [
    "# BGPDistinct: Data Experimentation\n",
    "*Quick notes and graphics on the BGP data and some of its characteristics*\n",
    "\n",
    "*Author: Andy Dolan*"
   ]
  },
  {
   "cell_type": "code",
   "execution_count": 1,
   "metadata": {},
   "outputs": [],
   "source": [
    "import json\n",
    "import matplotlib.pyplot as plt\n",
    "import sys\n",
    "from datetime import datetime as dt\n",
    "import math\n",
    "import statistics\n",
    "%matplotlib inline"
   ]
  },
  {
   "cell_type": "markdown",
   "metadata": {},
   "source": [
    "## Some Example Data\n",
    "The following lines import some preprocessed data from an original set of over 250,000 BGP messages from a single collector during a single hour on November 1st, 2018. The preprocessing step was responsible for properly formatting the JSON data and filtering out any unwanted or malformed BGP messages."
   ]
  },
  {
   "cell_type": "code",
   "execution_count": 2,
   "metadata": {},
   "outputs": [],
   "source": [
    "# Your file here\n",
    "filename = '../data/formatted_large_set.json'\n",
    "with open(filename) as f:\n",
    "    all_announcements = json.load(f)"
   ]
  },
  {
   "cell_type": "code",
   "execution_count": 3,
   "metadata": {
    "scrolled": true
   },
   "outputs": [
    {
     "name": "stdout",
     "output_type": "stream",
     "text": [
      "Total number of announcements in dataset: 254911\n",
      "{\n",
      "  \"advertized_routes\": [\n",
      "    {\n",
      "      \"prefix\": \"45.123.119.0\",\n",
      "      \"mask\": 24\n",
      "    }\n",
      "  ],\n",
      "  \"attrs\": {\n",
      "    \"optional_bit\": true,\n",
      "    \"as_path\": [\n",
      "      {\n",
      "        \"as_seq\": [\n",
      "          852,\n",
      "          174,\n",
      "          2914,\n",
      "          9121,\n",
      "          9121,\n",
      "          43260,\n",
      "          134094\n",
      "        ]\n",
      "      }\n",
      "    ],\n",
      "    \"types\": [\n",
      "      1,\n",
      "      2,\n",
      "      3,\n",
      "      4\n",
      "    ],\n",
      "    \"next_hop\": \"154.11.12.212\"\n",
      "  }\n",
      "}\n"
     ]
    }
   ],
   "source": [
    "print('Total number of announcements in dataset: {:d}'.format(len(all_announcements)))\n",
    "print(json.dumps(all_announcements[0].get('bgp_update'), indent=2))"
   ]
  },
  {
   "cell_type": "markdown",
   "metadata": {},
   "source": [
    "## Extracting Characteristics; Inflating Data\n",
    "The FIRST thing that we should do is limit the data in each message to the key characteristics that we most care about.\n",
    "\n",
    "For the purposes of this project, we will utilize four important characteristics of any BGP announcement:\n",
    "1. The timestamp of the announcement.\n",
    "2. The prefix being announced.\n",
    "3. The mask of the prefix being announced.\n",
    "4. The final destination/owner of the prefix being announced.\n",
    "\n",
    "Of these characteristics, the latter three are most important, since a message may belong to the same event as another message if they share the same prefix, mask, and destination AS. However, this is not a guarantee, since their temporal difference may indicate otherwise.\n",
    "\n",
    "One troubling item is that the BGP4 specification allows for multiple prefixes to be announced in a single message, assuming that they are all related to the final destination AS. If we want to consider different prefixes as distinct announcements, we must treat these kinds of messages as separate by each prefix.\n",
    "\n",
    "For example, consider a BGP4 message that announces three prefixes, all attributed to the same final destination AS. We will consider this announcement as three separate BGP announcements, all captured at the same timestamp (that of the original message), each with a unique prefix, and each having the same final destination AS.\n",
    "\n",
    "To alter the original data in this way, we must separate all messages with *n* prefixes advertised into _n_ separate messages, each with a single prefix. We now define a function to do so, as well as extract the key characteristics listed above:"
   ]
  },
  {
   "cell_type": "code",
   "execution_count": 4,
   "metadata": {},
   "outputs": [],
   "source": [
    "def transform_data(data):\n",
    "    \"\"\"Extract the key characteristics of the provided BGP data and 'inflate' messages\n",
    "    that contain multiple advertised prefixes. That is, create a separate message for each\n",
    "    advertised prefix.\n",
    "    Args:\n",
    "    data (list of dict): The original input structure of formatted BGP messages.\n",
    "    Returns:\n",
    "    A new list of tuples that each contain key characteristics of announcements: a timestamp,\n",
    "        (a single) prefix+mask, and a final destination AS.\n",
    "    \"\"\"\n",
    "    transformed_data = []\n",
    "    for message in data:\n",
    "        tstamp = message.get('mrt_header').get('timestamp')\n",
    "        dest = message.get('bgp_update').get('attrs').get('as_path')[-1].get('as_seq')[-1]\n",
    "        transformed_data.extend([(tstamp, r.get('prefix'), r.get('mask'), dest) for r in message.get('bgp_update').get('advertized_routes')])\n",
    "    return transformed_data"
   ]
  },
  {
   "cell_type": "code",
   "execution_count": 5,
   "metadata": {},
   "outputs": [
    {
     "name": "stdout",
     "output_type": "stream",
     "text": [
      "Original number of BGP messages: 254911\n",
      "Number of BGP messages with single prefix, mask, and destination: 692127\n"
     ]
    }
   ],
   "source": [
    "# The data that will be used for the remainder of this notebook\n",
    "transformed_data = transform_data(all_announcements)\n",
    "print('Original number of BGP messages: {:d}'.format(len(all_announcements)))\n",
    "print('Number of BGP messages with single prefix, mask, and destination: {:d}'.format(len(transformed_data)))"
   ]
  },
  {
   "cell_type": "markdown",
   "metadata": {},
   "source": [
    "This transformation clearly demonstrates that there are many BGP messages that contain multiple prefixes, which is probably a good thing. From here on, keep in mind that any one \"message\" is now a tuple that looks like the following:"
   ]
  },
  {
   "cell_type": "code",
   "execution_count": 6,
   "metadata": {},
   "outputs": [
    {
     "data": {
      "text/plain": [
       "(1541030400.0, '45.123.119.0', 24, 134094)"
      ]
     },
     "execution_count": 6,
     "metadata": {},
     "output_type": "execute_result"
    }
   ],
   "source": [
    "transformed_data[0]"
   ]
  },
  {
   "cell_type": "markdown",
   "metadata": {},
   "source": [
    "## Playing with the Data\n",
    "Let's start by investigating some of the `AS_PATH` attributes of these messages. Note that this data has had any messages that include an `AS_SET` (unordered) instead of an `AS_SEQ` (ordered) filtered out. Here's an example of a fragment of an `AS_PATH`:"
   ]
  },
  {
   "cell_type": "code",
   "execution_count": 7,
   "metadata": {},
   "outputs": [
    {
     "data": {
      "text/plain": [
       "[{'as_seq': [852, 174, 2914, 9121, 9121, 43260, 134094]}]"
      ]
     },
     "execution_count": 7,
     "metadata": {},
     "output_type": "execute_result"
    }
   ],
   "source": [
    "all_announcements[0].get('bgp_update').get('attrs').get('as_path')"
   ]
  },
  {
   "cell_type": "markdown",
   "metadata": {},
   "source": [
    "From our transformed data, let's determine how many unique AS destinations there were."
   ]
  },
  {
   "cell_type": "code",
   "execution_count": 8,
   "metadata": {},
   "outputs": [
    {
     "name": "stdout",
     "output_type": "stream",
     "text": [
      "Number of messages: 692127\n",
      "Number of unique final AS destinations: 5293\n"
     ]
    }
   ],
   "source": [
    "print('Number of messages: {:d}'.format(len(transformed_data)))\n",
    "all_dests = [m[-1] for m in transformed_data]\n",
    "unique_dests = set(all_dests)\n",
    "print('Number of unique final AS destinations: {:d}'.format(len(unique_dests)))"
   ]
  },
  {
   "cell_type": "markdown",
   "metadata": {},
   "source": [
    "There are clearly several messages that share the same final destination. This does not necessarily mean that there are only distinct events for each final destination, however, as different messages may pertain to a different prefix owned by the same final AS. Additionally, the temporal difference may also indicate that different messages that lead to the same AS for the same prefix are distinct as well.\n",
    "\n",
    "Let's also see what the most popular AS destinations were:"
   ]
  },
  {
   "cell_type": "code",
   "execution_count": 9,
   "metadata": {},
   "outputs": [
    {
     "data": {
      "text/plain": [
       "[(747, 47827),\n",
       " (15169, 38922),\n",
       " (37492, 37399),\n",
       " (132165, 37283),\n",
       " (25435, 18122),\n",
       " (268447, 10575),\n",
       " (9829, 8260),\n",
       " (8901, 8186),\n",
       " (48095, 7556),\n",
       " (48434, 6288)]"
      ]
     },
     "execution_count": 9,
     "metadata": {},
     "output_type": "execute_result"
    }
   ],
   "source": [
    "as_counts = sorted([(d, all_dests.count(d)) for d in unique_dests], key=lambda x: x[1], reverse=True)\n",
    "as_counts[:10]"
   ]
  },
  {
   "cell_type": "markdown",
   "metadata": {},
   "source": [
    "Let's plot these metrics:"
   ]
  },
  {
   "cell_type": "code",
   "execution_count": 10,
   "metadata": {},
   "outputs": [
    {
     "data": {
      "image/png": "[encoded data removed]",
      "text/plain": [
       "<Figure size 432x288 with 1 Axes>"
      ]
     },
     "metadata": {
      "needs_background": "light"
     },
     "output_type": "display_data"
    }
   ],
   "source": [
    "fig, ax = plt.subplots()\n",
    "\n",
    "chart = ax.bar([str(a[0]) for a in as_counts[:10]], [a[1] for a in as_counts[:10]])\n",
    "plt.xticks(rotation=30)\n",
    "ax.set_xlabel('AS Number')\n",
    "ax.set_ylabel('Number of messages')\n",
    "ax.set_title('Top 10 ASes as Final Destination in BGP Announcements')\n",
    "\n",
    "plt.show()"
   ]
  },
  {
   "cell_type": "markdown",
   "metadata": {},
   "source": [
    "We can use the `whois` command to see what routes are attributed to a particular AS. Let's take a look at that for the most popular selection..."
   ]
  },
  {
   "cell_type": "code",
   "execution_count": 11,
   "metadata": {
    "scrolled": true
   },
   "outputs": [
    {
     "name": "stdout",
     "output_type": "stream",
     "text": [
      "route:      204.208.28.0/24\n",
      "descr:      Proxy-Registered Route Object by DACOM(AS3786)\n",
      "route:      204.208.31.0/24\n",
      "descr:      Proxy-Registered Route Object by DACOM(AS3786)\n",
      "route:      204.208.32.0/21\n",
      "descr:      Proxy-Registered Route Object by DACOM(AS3786)\n",
      "route:      204.208.40.0/22\n",
      "descr:      Proxy-Registered Route Object by DACOM(AS3786)\n",
      "route:      143.77.0.0/16\n",
      "descr:      Proxy-Registered Route Object by DACOM(AS3786)\n",
      "route:      143.138.0.0/16\n",
      "descr:      Proxy-Registered Route Object by DACOM(AS3786)\n",
      "route:      144.59.0.0/16\n",
      "descr:      Proxy-Registered Route Object by DACOM(AS3786)\n",
      "route:      147.242.0.0/16\n",
      "descr:      Proxy-Registered Route Object by DACOM(AS3786)\n",
      "route:      160.135.0.0/16\n",
      "descr:      Proxy-Registered Route Object by DACOM(AS3786)\n",
      "route:      204.37.129.0/24\n",
      "descr:      Proxy-Registered Route Object by DACOM(AS3786)\n",
      "route:      204.208.29.0/24\n",
      "descr:      Proxy-Registered Route Object by DACOM(AS3786)\n",
      "route:      204.208.30.0/24\n",
      "descr:      Proxy-Registered Route Object by DACOM(AS3786)\n",
      "route:      204.208.43.0/24\n",
      "descr:      Proxy-Registered Route Object by DACOM(AS3786)\n",
      "route:      204.208.55.0/24\n",
      "descr:      Proxy-Registered Route Object by LG Dacom(AS3786)\n",
      "route:      204.208.56.0/24\n",
      "descr:      Proxy-Registered Route Object by LG Dacom(AS3786)\n",
      "route:      205.109.198.0/24\n",
      "descr:      Proxy-Registered Route Object by DACOM(AS3786)\n",
      "route:      204.208.33.0/24\n",
      "descr:      Proxy-Registered Route Object by LG Dacom(AS3786)\n",
      "route:      144.59.136.0/21\n",
      "descr:      Proxy-Registered Route Object by DACOM(AS3786)\n",
      "route:      144.59.154.0/23\n",
      "descr:      Proxy-Registered Route Object by DACOM(AS3786)\n",
      "route:      144.59.161.0/24\n",
      "descr:      Proxy-Registered Route Object by DACOM(AS3786)\n",
      "route:      144.59.162.0/24\n",
      "descr:      Proxy-Registered Route Object by DACOM(AS3786)\n",
      "route:      144.59.163.0/24\n",
      "descr:      Proxy-Registered Route Object by DACOM(AS3786)\n",
      "route:      144.59.165.0/24\n",
      "descr:      Proxy-Registered Route Object by DACOM(AS3786)\n",
      "route:      144.59.174.0/23\n",
      "descr:      Proxy-Registered Route Object by DACOM(AS3786)\n",
      "route:      140.10.1.0/24\n",
      "descr:      Proxy-Registered Route Object by DACOM(AS3786)\n",
      "route:      204.37.130.0/24\n",
      "descr:      Proxy-Registered Route Object by DACOM(AS3786)\n",
      "route:      204.37.133.0/24\n",
      "descr:      Proxy-Registered Route Object by DACOM(AS3786)\n",
      "route:      204.208.25.0/24\n",
      "descr:      Proxy-Registered Route Object by DACOM(AS3786)\n",
      "route:      204.208.26.0/24\n",
      "descr:      Proxy-Registered Route Object by DACOM(AS3786)\n",
      "route:      204.208.27.0/24\n",
      "descr:      Proxy-Registered Route Object by DACOM(AS3786)\n",
      "route:      204.208.28.0/22\n",
      "descr:      Proxy-Registered Route Object by DACOM(AS3786)\n",
      "route:      204.208.32.0/24\n",
      "descr:      Proxy-Registered Route Object by DACOM(AS3786)\n",
      "route:      204.208.34.0/24\n",
      "descr:      Proxy-Registered Route Object by DACOM(AS3786)\n",
      "route:      204.208.35.0/24\n",
      "descr:      Proxy-Registered Route Object by DACOM(AS3786)\n",
      "route:      204.208.37.0/24\n",
      "descr:      Proxy-Registered Route Object by DACOM(AS3786)\n",
      "route:      204.208.38.0/24\n",
      "descr:      Proxy-Registered Route Object by DACOM(AS3786)\n",
      "route:      204.208.39.0/24\n",
      "descr:      Proxy-Registered Route Object by DACOM(AS3786)\n",
      "route:      204.208.40.0/24\n",
      "descr:      Proxy-Registered Route Object by DACOM(AS3786)\n",
      "route:      204.208.41.0/24\n",
      "descr:      Proxy-Registered Route Object by DACOM(AS3786)\n",
      "route:      204.208.42.0/24\n",
      "descr:      Proxy-Registered Route Object by DACOM(AS3786)\n",
      "route:      204.208.63.0/24\n",
      "descr:      Proxy-Registered Route Object by DACOM(AS3786)\n",
      "route:      205.109.192.0/24\n",
      "descr:      Proxy-Registered Route Object by DACOM(AS3786)\n",
      "route:      215.1.31.0/24\n",
      "descr:      Proxy-Registered Route Object by DACOM(AS3786)\n",
      "route:      147.242.243.0/24\n",
      "descr:      Proxy-Registered Route Object by LG Dacom(AS3786)\n",
      "route:      204.208.20.0/24\n",
      "descr:      Proxy-Registered Route Object by LG Dacom(AS3786)\n",
      "route:      144.104.224.0/21\n",
      "descr:      Proxy-Registered Route Object by LG Dacom(AS3786)\n",
      "route:      144.104.232.0/23\n",
      "descr:      Proxy-Registered Route Object by LG Dacom(AS3786)\n",
      "route:      144.104.244.0/23\n",
      "descr:      Proxy-Registered Route Object by LG Dacom(AS3786)\n",
      "route:      144.105.154.0/23\n",
      "descr:      Proxy-Registered Route Object by LG Dacom(AS3786)\n",
      "route:      204.208.16.0/24\n",
      "descr:      Proxy-Registered Route Object by LG Dacom(AS3786)\n",
      "route:      204.208.17.0/24\n",
      "descr:      Proxy-Registered Route Object by LG Dacom(AS3786)\n",
      "route:      204.208.18.0/24\n",
      "descr:      Proxy-Registered Route Object by LG Dacom(AS3786)\n",
      "route:      204.208.22.0/24\n",
      "descr:      Proxy-Registered Route Object by LG Dacom(AS3786)\n",
      "route:      204.208.23.0/24\n",
      "descr:      Proxy-Registered Route Object by LG Dacom(AS3786)\n",
      "route:      204.208.24.0/24\n",
      "descr:      Proxy-Registered Route Object by LG Dacom(AS3786)\n",
      "route:      204.208.26.0/23\n",
      "descr:      Proxy-Registered Route Object by LG Dacom(AS3786)\n",
      "route:      204.208.47.0/24\n",
      "descr:      Proxy-Registered Route Object by LG Dacom(AS3786)\n",
      "route:      204.208.48.0/24\n",
      "descr:      Proxy-Registered Route Object by LG Dacom(AS3786)\n",
      "route:      204.208.49.0/24\n",
      "descr:      Proxy-Registered Route Object by LG Dacom(AS3786)\n",
      "route:      204.208.50.0/24\n",
      "descr:      Proxy-Registered Route Object by LG Dacom(AS3786)\n",
      "route:      204.208.51.0/24\n",
      "descr:      Proxy-Registered Route Object by LG Dacom(AS3786)\n",
      "route:      204.208.52.0/24\n",
      "descr:      Proxy-Registered Route Object by LG Dacom(AS3786)\n",
      "route:      204.208.54.0/24\n",
      "descr:      Proxy-Registered Route Object by LG Dacom(AS3786)\n",
      "route:      204.208.58.0/24\n",
      "descr:      Proxy-Registered Route Object by LG Dacom(AS3786)\n",
      "route:      204.208.61.0/24\n",
      "descr:      Proxy-Registered Route Object by LG Dacom(AS3786)\n",
      "route:      144.59.136.0/24\n",
      "descr:      Proxy-Registered Route Object by LG Dacom(AS3786)\n",
      "route:      144.59.139.0/24\n",
      "descr:      Proxy-Registered Route Object by LG Dacom(AS3786)\n",
      "route:      144.59.142.0/24\n",
      "descr:      Proxy-Registered Route Object by LG Dacom(AS3786)\n",
      "route:      144.59.160.0/22\n",
      "descr:      Proxy-Registered Route Object by LG Dacom(AS3786)\n",
      "route:      144.59.164.0/24\n",
      "descr:      Proxy-Registered Route Object by LG Dacom(AS3786)\n",
      "route:      144.59.166.0/24\n",
      "descr:      Proxy-Registered Route Object by LG Dacom(AS3786)\n",
      "route:      144.59.169.0/24\n",
      "descr:      Proxy-Registered Route Object by LG Dacom(AS3786)\n",
      "route:      144.59.200.0/24\n",
      "descr:      Proxy-Registered Route Object by LG Dacom(AS3786)\n",
      "route:      144.59.201.0/24\n",
      "descr:      Proxy-Registered Route Object by LG Dacom(AS3786)\n",
      "route:      144.59.202.0/24\n",
      "descr:      Proxy-Registered Route Object by LG Dacom(AS3786)\n",
      "route:      144.59.203.0/24\n",
      "descr:      Proxy-Registered Route Object by LG Dacom(AS3786)\n",
      "route:      144.104.234.0/24\n",
      "descr:      Proxy-Registered Route Object by LG Dacom(AS3786)\n",
      "route:      144.104.246.0/24\n",
      "descr:      Proxy-Registered Route Object by LG Dacom(AS3786)\n",
      "route:      214.15.122.0/24\n",
      "descr:      Proxy-Registered Route Object by LG Dacom(AS3786)\n",
      "route:      144.104.248.0/21\n",
      "descr:      Proxy-Registered Route Object by LG Dacom(AS3786)\n",
      "route:      143.77.0.0/16\n",
      "descr:      DISA-PAC (AS27066) Customer Route Object\n",
      "route:      143.138.0.0/16\n",
      "descr:      DISA-PAC (AS27066) Customer Route Object\n",
      "route:      144.59.0.0/16\n",
      "descr:      DISA-PAC (AS27066) Customer Route Object\n",
      "route:      144.59.136.0/21\n",
      "descr:      DISA-PAC (AS27066) Customer Route Object\n",
      "route:      144.59.154.0/23\n",
      "descr:      DISA-PAC (AS27066) Customer Route Object\n",
      "route:      144.59.156.0/22\n",
      "descr:      DISA-PAC (AS27066) Customer Route Object\n",
      "route:      144.59.161.0/24\n",
      "descr:      DISA-PAC (AS27066) Customer Route Object\n",
      "route:      144.59.162.0/24\n",
      "descr:      DISA-PAC (AS27066) Customer Route Object\n",
      "route:      144.59.163.0/24\n",
      "descr:      DISA-PAC (AS27066) Customer Route Object\n",
      "route:      144.59.174.0/23\n",
      "descr:      DISA-PAC (AS27066) Customer Route Object\n",
      "route:      160.135.0.0/16\n",
      "descr:      DISA-PAC (AS27066) Customer Route Object\n",
      "route:      199.122.35.0/24\n",
      "descr:      DISA-PAC (AS27066) Customer Route Object\n",
      "route:      204.37.130.0/24\n",
      "descr:      DISA-PAC (AS27066) Customer Route Object\n",
      "route:      204.37.133.0/24\n",
      "descr:      DISA-PAC (AS27066) Customer Route Object\n",
      "route:      204.208.20.0/24\n",
      "descr:      DISA-PAC (AS27066) Customer Route Object\n",
      "route:      204.208.25.0/24\n",
      "descr:      DISA-PAC (AS27066) Customer Route Object\n",
      "route:      204.208.26.0/24\n",
      "descr:      DISA-PAC (AS27066) Customer Route Object\n",
      "route:      204.208.27.0/24\n",
      "descr:      DISA-PAC (AS27066) Customer Route Object\n",
      "route:      204.208.28.0/24\n",
      "descr:      DISA-PAC (AS27066) Customer Route Object\n",
      "route:      204.208.29.0/24\n",
      "descr:      DISA-PAC (AS27066) Customer Route Object\n",
      "route:      204.208.30.0/24\n",
      "descr:      DISA-PAC (AS27066) Customer Route Object\n",
      "route:      204.208.31.0/24\n",
      "descr:      DISA-PAC (AS27066) Customer Route Object\n",
      "route:      204.208.32.0/21\n",
      "descr:      DISA-PAC (AS27066) Customer Route Object\n",
      "route:      204.208.32.0/24\n",
      "descr:      DISA-PAC (AS27066) Customer Route Object\n",
      "route:      204.208.33.0/24\n",
      "descr:      DISA-PAC (AS27066) Customer Route Object\n",
      "route:      204.208.34.0/24\n",
      "descr:      DISA-PAC (AS27066) Customer Route Object\n",
      "route:      204.208.35.0/24\n",
      "descr:      DISA-PAC (AS27066) Customer Route Object\n",
      "route:      204.208.36.0/24\n",
      "descr:      DISA-PAC (AS27066) Customer Route Object\n",
      "route:      204.208.37.0/24\n",
      "descr:      DISA-PAC (AS27066) Customer Route Object\n",
      "route:      204.208.38.0/24\n",
      "descr:      DISA-PAC (AS27066) Customer Route Object\n",
      "route:      204.208.39.0/24\n",
      "descr:      DISA-PAC (AS27066) Customer Route Object\n",
      "route:      204.208.40.0/22\n",
      "descr:      DISA-PAC (AS27066) Customer Route Object\n",
      "route:      204.208.40.0/24\n",
      "descr:      DISA-PAC (AS27066) Customer Route Object\n",
      "route:      204.208.41.0/24\n",
      "descr:      DISA-PAC (AS27066) Customer Route Object\n",
      "route:      204.208.42.0/24\n",
      "descr:      DISA-PAC (AS27066) Customer Route Object\n",
      "route:      204.208.43.0/24\n",
      "descr:      DISA-PAC (AS27066) Customer Route Object\n",
      "route:      204.208.55.0/24\n",
      "descr:      DISA-PAC (AS27066) Customer Route Object\n",
      "route:      204.208.56.0/24\n",
      "descr:      DISA-PAC (AS27066) Customer Route Object\n",
      "route:      204.208.63.0/24\n",
      "descr:      DISA-PAC (AS27066) Customer Route Object\n",
      "route:      215.1.31.0/24\n",
      "descr:      DISA-PAC (AS27066) Customer Route Object\n",
      "route:      144.104.224.0/21\n",
      "descr:      DISA-PAC (AS27066) Customer Route Object\n",
      "route:      144.104.232.0/23\n",
      "descr:      DISA-PAC (AS27066) Customer Route Object\n",
      "route:      144.104.244.0/23\n",
      "descr:      DISA-PAC (AS27066) Customer Route Object\n",
      "route:      144.105.154.0/23\n",
      "descr:      DISA-PAC (AS27066) Customer Route Object\n",
      "route:      147.242.243.0/24\n",
      "descr:      DISA-PAC (AS27066) Customer Route Object\n",
      "route:      147.242.0.0/16\n",
      "descr:      DISA-PAC (AS27066) Customer Route Object\n",
      "route:      204.37.180.0/24\n",
      "descr:      DISA-PAC (AS27066) Customer Route Object\n",
      "route:      204.208.0.0/24\n",
      "descr:      DISA-PAC (AS27066) Customer Route Object\n",
      "route:      204.208.1.0/24\n",
      "descr:      DISA-PAC (AS27066) Customer Route Object\n",
      "route:      204.208.2.0/24\n",
      "descr:      DISA-PAC (AS27066) Customer Route Object\n",
      "route:      204.208.3.0/24\n",
      "descr:      DISA-PAC (AS27066) Customer Route Object\n",
      "route:      204.208.12.0/24\n",
      "descr:      DISA-PAC (AS27066) Customer Route Object\n",
      "route:      204.208.13.0/24\n",
      "descr:      DISA-PAC (AS27066) Customer Route Object\n",
      "route:      204.208.15.0/24\n",
      "descr:      DISA-PAC (AS27066) Customer Route Object\n",
      "route:      144.106.128.0/23\n",
      "descr:      DISA-PAC (AS27066) Customer Route Object\n",
      "route:      204.208.22.0/24\n",
      "descr:      DISA-PAC (AS27066) Customer Route Object\n",
      "route:      204.208.23.0/24\n",
      "descr:      DISA-PAC (AS27066) Customer Route Object\n",
      "route:      204.208.24.0/24\n",
      "descr:      DISA-PAC (AS27066) Customer Route Object\n",
      "route:      204.208.26.0/23\n",
      "descr:      DISA-PAC (AS27066) Customer Route Object\n",
      "route:      204.208.47.0/24\n",
      "descr:      DISA-PAC (AS27066) Customer Route Object\n",
      "route:      204.208.48.0/24\n",
      "descr:      DISA-PAC (AS27066) Customer Route Object\n",
      "route:      204.208.49.0/24\n",
      "descr:      DISA-PAC (AS27066) Customer Route Object\n",
      "route:      204.208.50.0/24\n",
      "descr:      DISA-PAC (AS27066) Customer Route Object\n",
      "route:      204.208.51.0/24\n",
      "descr:      DISA-PAC (AS27066) Customer Route Object\n",
      "route:      204.208.52.0/24\n",
      "descr:      DISA-PAC (AS27066) Customer Route Object\n",
      "route:      204.208.53.0/24\n",
      "descr:      DISA-PAC (AS27066) Customer Route Object\n",
      "route:      204.208.54.0/24\n",
      "descr:      DISA-PAC (AS27066) Customer Route Object\n",
      "route:      204.208.58.0/24\n",
      "descr:      DISA-PAC (AS27066) Customer Route Object\n",
      "route:      204.208.61.0/24\n",
      "descr:      DISA-PAC (AS27066) Customer Route Object\n",
      "route:      144.107.128.0/20\n",
      "descr:      DISA-PAC (AS27066) Customer Route Object\n",
      "route:      143.74.251.0/24\n",
      "descr:      DISA-PAC (AS27066) Customer Route Object\n",
      "route:      144.107.224.0/20\n",
      "descr:      DISA-PAC (AS27066) Customer Route Object\n",
      "route:      144.107.144.0/20\n",
      "descr:      DISA-PAC (AS27066) Customer Route Object\n",
      "route:      144.107.248.0/21\n",
      "descr:      DISA-PAC (AS27066) Customer Route Object\n",
      "route:      144.104.248.0/21\n",
      "descr:      DISA-PAC (AS27066) Customer Route Object\n",
      "route:      204.208.16.0/24\n",
      "descr:      DISA-PAC (AS27066) Customer Route Object\n",
      "route:      204.208.17.0/24\n",
      "descr:      DISA-PAC (AS27066) Customer Route Object\n",
      "route:      204.208.18.0/24\n",
      "descr:      DISA-PAC (AS27066) Customer Route Object\n",
      "route:      147.242.244.0/24\n",
      "descr:      DISA-PAC (AS27066) Customer Route Object\n",
      "route:      147.242.251.0/24\n",
      "descr:      DISA-PAC (AS27066) Customer Route Object\n",
      "route:      147.242.243.0/25\n",
      "descr:      DISA-PAC (AS27066) Customer Route Object\n",
      "route:      147.242.247.0/24\n",
      "descr:      DISA-PAC (AS724) Customer Route Object\n",
      "route:      147.242.11.0/24\n",
      "descr:      DISA-PAC (AS27066) Customer Route Object\n",
      "route:      147.242.130.0/24\n",
      "descr:      DISA-PAC (AS27066) Customer Route Object\n",
      "route:      144.104.16.0/21\n",
      "descr:      CenturyLink Proxy object\n",
      "route:      150.196.48.0/20\n",
      "descr:      CenturyLink Proxy object\n"
     ]
    }
   ],
   "source": [
    "# Only run the following if we have whois/grep built-in...\n",
    "if sys.platform in ['linux', 'darwin']:\n",
    "    !whois -h whois.radb.net -- -i origin AS{as_counts[0][0]} | grep 'descr:\\|route:'\n",
    "else:\n",
    "    print('Running Windows, skipping...')"
   ]
  },
  {
   "cell_type": "markdown",
   "metadata": {},
   "source": [
    "This seems to be an AS that holds ownership over quite a few prefixes, hence a larger number of our distinct messages."
   ]
  },
  {
   "cell_type": "markdown",
   "metadata": {},
   "source": [
    "### Bringing Prefixes into the Mix\n",
    "We have determined that the number of unique final-destination AS numbers is significantly less than the total number of messages broadcast/propagated for any time period. How does the number of unique prefixes compare?"
   ]
  },
  {
   "cell_type": "code",
   "execution_count": 12,
   "metadata": {},
   "outputs": [
    {
     "name": "stdout",
     "output_type": "stream",
     "text": [
      "Number of unique prefixes from all announcements: 30045\n"
     ]
    }
   ],
   "source": [
    "unique_prefixes = set([m[1] for m in transformed_data])\n",
    "print('Number of unique prefixes from all announcements: {:d}'.format(len(unique_prefixes)))"
   ]
  },
  {
   "cell_type": "markdown",
   "metadata": {},
   "source": [
    "What if we also bring the prefix mask into account?"
   ]
  },
  {
   "cell_type": "code",
   "execution_count": 13,
   "metadata": {},
   "outputs": [
    {
     "name": "stdout",
     "output_type": "stream",
     "text": [
      "Number of unique prefixes and masks from all announcements: 31357\n"
     ]
    }
   ],
   "source": [
    "unique_pf_masks = set([(m[1], m[2]) for m in transformed_data])\n",
    "print('Number of unique prefixes and masks from all announcements: {:d}'.format(len(unique_pf_masks)))"
   ]
  },
  {
   "cell_type": "markdown",
   "metadata": {},
   "source": [
    "Very intersting... This appears to make only a small difference, on the order of 5% or less. Still, prefixes of different mask lengths should be considered unique, as they are in routing.\n",
    "\n",
    "So then, what is the total number of unique (prefix, mask, destination) tuples for the set?"
   ]
  },
  {
   "cell_type": "code",
   "execution_count": 14,
   "metadata": {},
   "outputs": [
    {
     "name": "stdout",
     "output_type": "stream",
     "text": [
      "Total number of unique (prefix, mask, destination) combinations: 31428\n"
     ]
    }
   ],
   "source": [
    "all_extracted_messages = [(p, m, d) for _, p, m, d in transformed_data]\n",
    "unique_messages = set(all_extracted_messages)\n",
    "print('Total number of unique (prefix, mask, destination) combinations: {:d}'.format(len(unique_messages)))"
   ]
  },
  {
   "cell_type": "markdown",
   "metadata": {},
   "source": [
    "This is especially interesting, as it reveals that different destination ASes announce the same prefix...\n",
    "\n",
    "We now have some idea of how the number of these \"distinctly\" identified messages compares to the full number of messages."
   ]
  },
  {
   "cell_type": "markdown",
   "metadata": {},
   "source": [
    "## Experimenting with the Temporal Side of Data\n",
    "Let's now investigate how putting different messages into different time-interval \"buckets\" results in different numbers of these unique (prefix, mask, AS number) tuples. Note that the timestamps on each BGP message are marked only down to the second.\n",
    "\n",
    "First off, how many unique timestamps are there, what's their range?"
   ]
  },
  {
   "cell_type": "code",
   "execution_count": 15,
   "metadata": {},
   "outputs": [],
   "source": [
    "times = [single[0] for single in transformed_data]"
   ]
  },
  {
   "cell_type": "code",
   "execution_count": 16,
   "metadata": {},
   "outputs": [
    {
     "name": "stdout",
     "output_type": "stream",
     "text": [
      "There are 2149 unique timestamps\n",
      "First time:\n",
      "2018-11-01 00:00:00\n",
      "Last time:\n",
      "2018-11-01 01:00:00\n"
     ]
    }
   ],
   "source": [
    "times.sort()\n",
    "unique_times = set(times)\n",
    "print('There are {:d} unique timestamps'.format(len(unique_times)))\n",
    "print('First time:')\n",
    "print(dt.utcfromtimestamp(times[0]))\n",
    "print('Last time:')\n",
    "print(dt.utcfromtimestamp(times[-1]))"
   ]
  },
  {
   "cell_type": "markdown",
   "metadata": {},
   "source": [
    "### Breaking into Buckets\n",
    "Let's now divide up the announcements into different \"buckets\" of time, where each bucket is of the same time interval in seconds."
   ]
  },
  {
   "cell_type": "code",
   "execution_count": 17,
   "metadata": {},
   "outputs": [],
   "source": [
    "def create_buckets(messages, interval):\n",
    "    \"\"\"Create a number of time period 'buckets' during each of which BGP messages occurred.\n",
    "    Args:\n",
    "    interval (int): The interval at which to split buckets, in seconds.\n",
    "    messages (list of tuple): The 'messages' to organize.\n",
    "    Returns:\n",
    "    A dict with the appropriate number of buckets and all messages inside each bucket.\n",
    "    \"\"\"\n",
    "    # First retrieve times and sort them\n",
    "    times = sorted([single[0] for single in messages])\n",
    "    \n",
    "    # Assemble buckets\n",
    "    start_time = times[0]\n",
    "    end_time = times[-1]\n",
    "    num_buckets = round((end_time - start_time) / interval)\n",
    "\n",
    "    # Divide up the announcements into their proper buckets\n",
    "    time_divided = {b: [] for b in range(num_buckets)}\n",
    "\n",
    "    for m in messages:\n",
    "        tstamp = m[0]\n",
    "        bucket = min(math.floor((tstamp - start_time) / interval), num_buckets - 1)\n",
    "        time_divided[bucket].append((m[1], m[2], m[3]))\n",
    "    return time_divided"
   ]
  },
  {
   "cell_type": "markdown",
   "metadata": {},
   "source": [
    "We also define a function to plot the number of unique messages in each time interval:"
   ]
  },
  {
   "cell_type": "code",
   "execution_count": 18,
   "metadata": {},
   "outputs": [],
   "source": [
    "def plot_buckets(time_buckets, interval):\n",
    "    \"\"\"Plot the number of messages captured during each specified time interval.\n",
    "    Args:\n",
    "    time_buckets (dict): The dictionary of 'time buckets' that contains each set of\n",
    "        detected messages during each bucket.\n",
    "    interval (int): The actual interval of the time buckets.\n",
    "    \"\"\"\n",
    "    bucket_lens = [len(b) for b in time_buckets.values()]\n",
    "    buckets = ['{:d}-{:d}'.format((b * interval), ((b + 1) * interval)) for b in time_buckets.keys()]\n",
    "    fig, ax = plt.subplots()\n",
    "    fig.set_size_inches(8, 6)\n",
    "    bars = ax.bar(buckets, bucket_lens)\n",
    "    # Remove x ticks if there are many data points\n",
    "    if len(buckets) > 40:\n",
    "        plt.tick_params(labelbottom=False)\n",
    "    plt.xticks(rotation=90)\n",
    "    plt.title('BGP messages divided into time buckets')\n",
    "    plt.ylabel('No. of messages')\n",
    "    plt.xlabel('Time bucket (intervals of seconds)')\n",
    "    plt.show()"
   ]
  },
  {
   "cell_type": "markdown",
   "metadata": {},
   "source": [
    "Let's start with a 20 second interval and see what the general spread looks like."
   ]
  },
  {
   "cell_type": "code",
   "execution_count": 19,
   "metadata": {},
   "outputs": [],
   "source": [
    "interval = 20\n",
    "td = create_buckets(transformed_data, interval)"
   ]
  },
  {
   "cell_type": "markdown",
   "metadata": {},
   "source": [
    "The plot below demonstrates the distribution of messages receieved during 20 second intervals. There are clearly some set periods of downtime, as well as some interesting spikes in the number of raw messages."
   ]
  },
  {
   "cell_type": "code",
   "execution_count": 20,
   "metadata": {},
   "outputs": [
    {
     "data": {
      "image/png": "[encoded data removed]",
      "text/plain": [
       "<Figure size 576x432 with 1 Axes>"
      ]
     },
     "metadata": {
      "needs_background": "light"
     },
     "output_type": "display_data"
    }
   ],
   "source": [
    "plot_buckets(td, interval)"
   ]
  },
  {
   "cell_type": "markdown",
   "metadata": {},
   "source": [
    "Let's adjust the interval to be a bit less granular. The plot below divides the messages captured into buckets of 60 second durations. There are still clear intervals during which no messages were received (at least for this dataset/collector)."
   ]
  },
  {
   "cell_type": "code",
   "execution_count": 21,
   "metadata": {},
   "outputs": [
    {
     "data": {
      "image/png": "[encoded data removed]",
      "text/plain": [
       "<Figure size 576x432 with 1 Axes>"
      ]
     },
     "metadata": {
      "needs_background": "light"
     },
     "output_type": "display_data"
    }
   ],
   "source": [
    "interval = 60\n",
    "td = create_buckets(transformed_data, interval)\n",
    "plot_buckets(td, interval)"
   ]
  },
  {
   "cell_type": "markdown",
   "metadata": {},
   "source": [
    "### Revisiting \"Unique\" Destinations\n",
    "What about if we change the number of total messages to the number of messages with a unique prefix/mask and final destination?"
   ]
  },
  {
   "cell_type": "code",
   "execution_count": 22,
   "metadata": {},
   "outputs": [],
   "source": [
    "# Convert the current buckets to contain only the unique destinations seen during\n",
    "# that time period\n",
    "buckets_unique = {k: set(v) for (k, v) in td.items()}"
   ]
  },
  {
   "cell_type": "code",
   "execution_count": 23,
   "metadata": {},
   "outputs": [
    {
     "data": {
      "image/png": "[encoded data removed]",
      "text/plain": [
       "<Figure size 576x432 with 1 Axes>"
      ]
     },
     "metadata": {
      "needs_background": "light"
     },
     "output_type": "display_data"
    }
   ],
   "source": [
    "# Now plot this new information; function is still applicable\n",
    "plot_buckets(buckets_unique, interval)"
   ]
  },
  {
   "cell_type": "markdown",
   "metadata": {},
   "source": [
    "To make the difference between the number of raw messages per each time period and the number of \"unique\" messages (in terms of prefix, mask, and destination AS) clear, let's plot them together:"
   ]
  },
  {
   "cell_type": "code",
   "execution_count": 24,
   "metadata": {
    "scrolled": false
   },
   "outputs": [
    {
     "data": {
      "image/png": "[encoded data removed]",
      "text/plain": [
       "<Figure size 1296x1080 with 1 Axes>"
      ]
     },
     "metadata": {
      "needs_background": "light"
     },
     "output_type": "display_data"
    }
   ],
   "source": [
    "fig, ax = plt.subplots()\n",
    "fig.set_size_inches(18, 15)\n",
    "\n",
    "intervals = ['{:d}-{:d}'.format(k * interval, (k + 1) * interval) for k in td.keys()]\n",
    "regular_buckets = [len(b) for b in td.values()]\n",
    "u_buckets = [len(b) for b in buckets_unique.values()]\n",
    "\n",
    "r_bar = ax.bar(intervals, regular_buckets)\n",
    "u_bar = ax.bar(intervals, u_buckets)\n",
    "\n",
    "ax.xaxis.label.set_fontsize(18)\n",
    "ax.yaxis.label.set_fontsize(18)\n",
    "plt.xticks(rotation=90)\n",
    "plt.title('Numbers of Raw and Unique Messages', fontsize=18)\n",
    "plt.ylabel('Number of Messages')\n",
    "plt.xlabel('Time Interval (intervals of seconds)')\n",
    "plt.legend((r_bar, u_bar), ('Raw Messages', 'Messages with unique pfx, mask, AS_dest'), fontsize=18)\n",
    "plt.show()"
   ]
  },
  {
   "cell_type": "markdown",
   "metadata": {},
   "source": [
    "Clearly, there is quite a variety of how many of these \"unique\" messages appear during each time period, and how they compare to the raw number of messages. Note the average proportion of \"unique\" messages to raw messages:"
   ]
  },
  {
   "cell_type": "code",
   "execution_count": 25,
   "metadata": {
    "scrolled": true
   },
   "outputs": [
    {
     "data": {
      "text/plain": [
       "0.08437295133766876"
      ]
     },
     "execution_count": 25,
     "metadata": {},
     "output_type": "execute_result"
    }
   ],
   "source": [
    "proportions = [len(b) / len(a) if len(b) > 0 else 0 for (a, b) in zip(td.values(), buckets_unique.values())]\n",
    "statistics.mean(proportions)"
   ]
  },
  {
   "cell_type": "markdown",
   "metadata": {},
   "source": [
    "### Some Thoughts\n",
    "The chart above reveals just how much duplication occurs in BGP, where under 10% of the total number of messages are distinct, when considering the basic composite key of (prefix, mask, and AS destination). Again, these numbers don't reflect the _actual number of messages captured_ in the dataset, since some messages aggregate many prefixes. Even so, the sheer amount of duplication is highly interesting.\n",
    "\n",
    "Now, how much impact does this temporal difference really have on the different messages? How many of the \"time buckets\" does each \"unique\" message span? Using our previously calculated example, let's find out:"
   ]
  },
  {
   "cell_type": "code",
   "execution_count": 26,
   "metadata": {},
   "outputs": [
    {
     "name": "stdout",
     "output_type": "stream",
     "text": [
      "Average number of time intervals for each message: 2.623839\n",
      "Standard deviation of number of time intervals for each message: 3.743804\n",
      "Maximum number of appearances for any one message: 39\n",
      "Mode number of appearances for any one message: 1\n"
     ]
    }
   ],
   "source": [
    "# Mark a 1 if the message appeared in an interval, 0 otherwise.\n",
    "intervals_per_message = [[1 if m in b else 0 for b in buckets_unique.values()] for m in unique_messages]\n",
    "# Sum the number of time intervals the message appeared in\n",
    "appearances = [sum(t) for t in intervals_per_message]\n",
    "print('Average number of time intervals for each message: {:f}'.format(statistics.mean(appearances)))\n",
    "print('Standard deviation of number of time intervals for each message: {:f}'.format(statistics.stdev(appearances)))\n",
    "print('Maximum number of appearances for any one message: {:d}'.format(max(appearances)))\n",
    "print('Mode number of appearances for any one message: {:d}'.format(statistics.mode(appearances)))"
   ]
  },
  {
   "cell_type": "markdown",
   "metadata": {},
   "source": [
    "On average, each unique message is found in about 2.6 buckets; perhaps a different time interval should be considered for this reason... However, the mode is 1 bucket per message, as might be expected, and the standard deviation of 3.74 suggests that this data is reasonably clustered around the mean, indicating that not many messages span a great amount of time, at least for this data set."
   ]
  }
 ],
 "metadata": {
  "kernelspec": {
   "display_name": "Python 3",
   "language": "python",
   "name": "python3"
  },
  "language_info": {
   "codemirror_mode": {
    "name": "ipython",
    "version": 3
   },
   "file_extension": ".py",
   "mimetype": "text/x-python",
   "name": "python",
   "nbconvert_exporter": "python",
   "pygments_lexer": "ipython3",
   "version": "3.7.0"
  }
 },
 "nbformat": 4,
 "nbformat_minor": 2
}
