{
 "cells": [
  {
   "cell_type": "markdown",
   "metadata": {},
   "source": [
    "# BGPDistinct: Data Experimentation\n",
    "*Quick notes and graphics on the BGP data and some of its characteristics*\n",
    "\n",
    "*Author: Andy Dolan*"
   ]
  },
  {
   "cell_type": "code",
   "execution_count": 1,
   "metadata": {},
   "outputs": [],
   "source": [
    "import json\n",
    "import matplotlib.pyplot as plt\n",
    "import sys\n",
    "from datetime import datetime as dt\n",
    "import math\n",
    "import statistics\n",
    "%matplotlib inline"
   ]
  },
  {
   "cell_type": "markdown",
   "metadata": {},
   "source": [
    "## Some Example Data\n",
    "The following lines import some preprocessed data from an original set of over 250,000 BGP messages from a single collector during a single hour on November 1st, 2018. The preprocessing step was responsible for properly formatting the JSON data and filtering out any unwanted or malformed BGP messages."
   ]
  },
  {
   "cell_type": "code",
   "execution_count": 2,
   "metadata": {},
   "outputs": [],
   "source": [
    "# Your file here\n",
    "# filename = ''\n",
    "with open(filename) as f:\n",
    "    all_announcements = json.load(f)"
   ]
  },
  {
   "cell_type": "code",
   "execution_count": 3,
   "metadata": {
    "scrolled": true
   },
   "outputs": [
    {
     "name": "stdout",
     "output_type": "stream",
     "text": [
      "Total number of announcements in dataset: 254911\n",
      "{\n",
      "  \"advertized_routes\": [\n",
      "    {\n",
      "      \"prefix\": \"45.123.119.0\",\n",
      "      \"mask\": 24\n",
      "    }\n",
      "  ],\n",
      "  \"attrs\": {\n",
      "    \"optional_bit\": true,\n",
      "    \"as_path\": [\n",
      "      {\n",
      "        \"as_seq\": [\n",
      "          852,\n",
      "          174,\n",
      "          2914,\n",
      "          9121,\n",
      "          9121,\n",
      "          43260,\n",
      "          134094\n",
      "        ]\n",
      "      }\n",
      "    ],\n",
      "    \"types\": [\n",
      "      1,\n",
      "      2,\n",
      "      3,\n",
      "      4\n",
      "    ],\n",
      "    \"next_hop\": \"154.11.12.212\"\n",
      "  }\n",
      "}\n"
     ]
    }
   ],
   "source": [
    "print('Total number of announcements in dataset: {:d}'.format(len(all_announcements)))\n",
    "print(json.dumps(all_announcements[0].get('bgp_update'), indent=2))"
   ]
  },
  {
   "cell_type": "markdown",
   "metadata": {},
   "source": [
    "## Playing with the Data\n",
    "Let's start by investigating some of the `AS_PATH` attributes of these messages. Note that this data has had any messages that include an `AS_SET` (unordered) instead of an `AS_SEQ` (ordered) filtered out."
   ]
  },
  {
   "cell_type": "code",
   "execution_count": 4,
   "metadata": {},
   "outputs": [
    {
     "data": {
      "text/plain": [
       "[{'as_seq': [852, 174, 2914, 9121, 9121, 43260, 134094]}]"
      ]
     },
     "execution_count": 4,
     "metadata": {},
     "output_type": "execute_result"
    }
   ],
   "source": [
    "all_paths = [single.get('bgp_update').get('attrs').get('as_path') for single in all_announcements]\n",
    "all_paths[0]"
   ]
  },
  {
   "cell_type": "markdown",
   "metadata": {},
   "source": [
    "These entries now contain any number of AS sequence fragments that make up the path to some final AS related to the prefix being announced. How many unique destinations are there? We can find out by picking the last entry of the last `AS_SEQ` off of each message:"
   ]
  },
  {
   "cell_type": "code",
   "execution_count": 5,
   "metadata": {},
   "outputs": [
    {
     "name": "stdout",
     "output_type": "stream",
     "text": [
      "Number of messages: 254911\n",
      "Number of unique final AS destinations: 5293\n"
     ]
    }
   ],
   "source": [
    "all_dests = [path[-1].get('as_seq')[-1] for path in all_paths]\n",
    "unique_dests = set(all_dests)\n",
    "print('Number of messages: {:d}'.format(len(all_paths)))\n",
    "print('Number of unique final AS destinations: {:d}'.format(len(unique_dests)))"
   ]
  },
  {
   "cell_type": "markdown",
   "metadata": {},
   "source": [
    "There are clearly several messages that share the same final destination. This does not necessarily mean that there are only distinct events for each final destination, however, as different messages may pertain to a different prefix owned by the same final AS. Additionally, the temporal difference may also indicate that different messages that lead to the same AS for the same prefix are indeed distinct as well.\n",
    "\n",
    "Let's also see what the most popular AS destinations were:"
   ]
  },
  {
   "cell_type": "code",
   "execution_count": 6,
   "metadata": {},
   "outputs": [
    {
     "data": {
      "text/plain": [
       "[(8901, 8065),\n",
       " (747, 6294),\n",
       " (268447, 5409),\n",
       " (12524, 5326),\n",
       " (3561, 4724),\n",
       " (13904, 3382),\n",
       " (132165, 2688),\n",
       " (15169, 2675),\n",
       " (25668, 2260),\n",
       " (14638, 2250)]"
      ]
     },
     "execution_count": 6,
     "metadata": {},
     "output_type": "execute_result"
    }
   ],
   "source": [
    "as_counts = sorted([(d, all_dests.count(d)) for d in unique_dests], key=lambda x: x[1], reverse=True)\n",
    "as_counts[:10]"
   ]
  },
  {
   "cell_type": "markdown",
   "metadata": {},
   "source": [
    "Let's plot these metrics:"
   ]
  },
  {
   "cell_type": "code",
   "execution_count": 7,
   "metadata": {},
   "outputs": [
    {
     "data": {
      "image/png": "[encoded data removed]",
      "text/plain": [
       "<Figure size 432x288 with 1 Axes>"
      ]
     },
     "metadata": {
      "needs_background": "light"
     },
     "output_type": "display_data"
    }
   ],
   "source": [
    "fig, ax = plt.subplots()\n",
    "\n",
    "chart = ax.bar([str(a[0]) for a in as_counts[:10]], [a[1] for a in as_counts[:10]])\n",
    "plt.xticks(rotation=30)\n",
    "ax.set_xlabel('AS Number')\n",
    "ax.set_ylabel('Number of messages')\n",
    "ax.set_title('Top 10 ASes as Final Destination in BGP Announcements')\n",
    "\n",
    "plt.show()"
   ]
  },
  {
   "cell_type": "markdown",
   "metadata": {},
   "source": [
    "We can use the `whois` command to see what routes are attributed to a particular AS. Let's take a look at that for the most popular selection..."
   ]
  },
  {
   "cell_type": "code",
   "execution_count": 8,
   "metadata": {
    "scrolled": true
   },
   "outputs": [
    {
     "name": "stdout",
     "output_type": "stream",
     "text": [
      "route:          212.11.128.0/19\r\n",
      "descr:          Moscow Mayor's Office\r\n",
      "route:          212.11.128.0/21\r\n",
      "descr:          Moscow Mayor's Office\r\n",
      "route:          212.11.136.0/21\r\n",
      "descr:          Moscow Mayor's Office\r\n",
      "route:          212.11.144.0/21\r\n",
      "descr:          Moscow Mayor's Office\r\n",
      "route:          212.11.152.0/21\r\n",
      "descr:          Moscow Mayor's Office\r\n",
      "route:          185.173.0.0/24\r\n",
      "descr:          COD-KR-1\r\n",
      "route:          185.173.1.0/24\r\n",
      "descr:          COD-KR-2\r\n",
      "route:          185.173.3.0/24\r\n",
      "descr:          COD-KR-4\r\n",
      "route:          185.173.0.0/22\r\n",
      "descr:          COD-KR\r\n",
      "route:          178.208.149.0/24\r\n"
     ]
    }
   ],
   "source": [
    "# Only run the following if we have whois/grep built-in...\n",
    "if sys.platform in ['linux', 'darwin']:\n",
    "    !whois -h whois.radb.net -- -i origin AS{as_counts[0][0]} | grep 'descr:\\|route:'\n",
    "else:\n",
    "    print('Running Windows, skipping...')"
   ]
  },
  {
   "cell_type": "markdown",
   "metadata": {},
   "source": [
    ">Moscow Mayor's Office\n",
    "\n",
    "Interesting, interesting..."
   ]
  },
  {
   "cell_type": "markdown",
   "metadata": {},
   "source": [
    "### Bringing Prefixes into the Mix\n",
    "We have determined that the number of unique final-destination AS numbers is significantly less than the total number of messages broadcast/propagated for any time period. How does the number of unique prefixes compare?\n",
    "\n",
    "Recall that the BGP4 specification allows for multiple prefix announcements to come in a single message, assuming that they belong to the relevant final-destination AS on the `AS_PATH`."
   ]
  },
  {
   "cell_type": "code",
   "execution_count": 9,
   "metadata": {},
   "outputs": [
    {
     "name": "stdout",
     "output_type": "stream",
     "text": [
      "Total number of prefixes from all announcements: 692127\n",
      "Number of unique prefixes from all announcements: 30045\n"
     ]
    }
   ],
   "source": [
    "all_prefixes = []\n",
    "for message in all_announcements:\n",
    "    all_prefixes.extend([m.get('prefix') for m in message.get('bgp_update').get('advertized_routes')])\n",
    "unique_prefixes = set(all_prefixes)\n",
    "print('Total number of prefixes from all announcements: {:d}'.format(len(all_prefixes)))\n",
    "print('Number of unique prefixes from all announcements: {:d}'.format(len(unique_prefixes)))"
   ]
  },
  {
   "cell_type": "markdown",
   "metadata": {},
   "source": [
    "What if we also bring the prefix mask into account?"
   ]
  },
  {
   "cell_type": "code",
   "execution_count": 10,
   "metadata": {},
   "outputs": [
    {
     "name": "stdout",
     "output_type": "stream",
     "text": [
      "Number of unique prefixes and masks from all announcements: 31357\n"
     ]
    }
   ],
   "source": [
    "all_pf_masks = []\n",
    "for message in all_announcements:\n",
    "    all_pf_masks.extend([(m.get('prefix'), m.get('mask')) for m in message.get('bgp_update').get('advertized_routes')])\n",
    "unique_pf_masks = set(all_pf_masks)\n",
    "print('Number of unique prefixes and masks from all announcements: {:d}'.format(len(unique_pf_masks)))"
   ]
  },
  {
   "cell_type": "markdown",
   "metadata": {},
   "source": [
    "Very intersting... This appears to make only a small difference, on the order of 5% or less. Still, prefixes of different mask lengths should be considered unique, as they are in routing.\n",
    "\n",
    "Let's combine all of the above unique characteristics by defining a utility function to create unique tuples of (`prefix`, `mask`, `AS_Destination`):"
   ]
  },
  {
   "cell_type": "code",
   "execution_count": 11,
   "metadata": {},
   "outputs": [],
   "source": [
    "def get_composite_keys(messages):\n",
    "    \"\"\"Get tuples containing components of BGP message composite key. Namely,\n",
    "    the prefix, the mask, and the destination AS number for each message, with\n",
    "    duplicates removed (i.e., a set).\n",
    "    Args:\n",
    "    messages (list of dict): The list of messages for which to create the set\n",
    "        of composite keys.\n",
    "    Returns: A set containing such composite keys.\n",
    "    \"\"\"\n",
    "    ret_set = set()\n",
    "    for m in messages:\n",
    "        destination = m.get('bgp_update').get('attrs').get('as_path')[-1].get('as_seq')[-1]\n",
    "        composite_key = [(destination, r.get('prefix'), r.get('mask')) for r in m.get('bgp_update').get('advertized_routes')]\n",
    "        ret_set.update(composite_key)\n",
    "    return ret_set"
   ]
  },
  {
   "cell_type": "code",
   "execution_count": 12,
   "metadata": {},
   "outputs": [
    {
     "name": "stdout",
     "output_type": "stream",
     "text": [
      "Total number of unique prefix, mask, and AS destination triplets: 31428\n"
     ]
    }
   ],
   "source": [
    "unique_composites = get_composite_keys(all_announcements)\n",
    "print('Total number of unique prefix, mask, and AS destination triplets: {:d}'.format(len(unique_composites)))"
   ]
  },
  {
   "cell_type": "markdown",
   "metadata": {},
   "source": [
    "This is especially interesting, as it reveals that including the prefix and mask in such a composite key still raises the number of \"unique\" messages, but only by a small amount. This function will come in handy later.\n",
    "\n",
    "**An important note:** With this extraction of prefixes, it may be possible to end up with more \"unique\" messages than original messages, as the BGP4 specification allows for a single BGP announcement to advertise more than one prefix. That is, this method considers a message that advertises two unique prefixes as two unique messages."
   ]
  },
  {
   "cell_type": "markdown",
   "metadata": {},
   "source": [
    "## Experimenting with the Temporal Side of Data\n",
    "Let's now investigate how putting different messages into different time-interval \"buckets\" results in different numbers of these unique (prefix, mask, AS number) tuples. Note that the timestamps on each BGP message are marked only down to the second.\n",
    "\n",
    "First off, how many unique timestamps are there, what's their range?"
   ]
  },
  {
   "cell_type": "code",
   "execution_count": 13,
   "metadata": {},
   "outputs": [],
   "source": [
    "times = [dt.strptime(single.get('mrt_header').get('timestamp'),\n",
    "                     '%Y-%m-%dT%H:%M:%S%z') for single in all_announcements]"
   ]
  },
  {
   "cell_type": "code",
   "execution_count": 14,
   "metadata": {},
   "outputs": [
    {
     "name": "stdout",
     "output_type": "stream",
     "text": [
      "There are 2149 unique timestamps\n",
      "First time:\n",
      "2018-10-31 18:00:00-06:00\n",
      "Last time:\n",
      "2018-10-31 19:00:00-06:00\n"
     ]
    }
   ],
   "source": [
    "times.sort(key=lambda t: t.timestamp())\n",
    "unique_times = set(times)\n",
    "print('There are {:d} unique timestamps'.format(len(unique_times)))\n",
    "print('First time:')\n",
    "print(times[0])\n",
    "print('Last time:')\n",
    "print(times[-1])"
   ]
  },
  {
   "cell_type": "markdown",
   "metadata": {},
   "source": [
    "### Breaking into Buckets\n",
    "Let's now divide up the announcements into different \"buckets\" of time, where each bucket is of the same time interval in seconds."
   ]
  },
  {
   "cell_type": "code",
   "execution_count": 15,
   "metadata": {},
   "outputs": [],
   "source": [
    "def create_buckets(interval, messages):\n",
    "    \"\"\"Create a number of time period 'buckets' during each of which BGP messages occurred.\n",
    "    Args:\n",
    "    interval (int): The interval at which to split buckets, in seconds.\n",
    "    messages (list of dict): The messages to organize.\n",
    "    Returns:\n",
    "    A dict with the appropriate number of buckets and all messages inside each bucket.\n",
    "    \"\"\"\n",
    "    # First retrieve times and sort them\n",
    "    times = [dt.strptime(\n",
    "        single.get('mrt_header').get('timestamp'),\n",
    "        '%Y-%m-%dT%H:%M:%S%z') for single in messages]\n",
    "    times.sort(key=lambda t: t.timestamp())\n",
    "    \n",
    "    # Assemble buckets\n",
    "    start_time = times[0].timestamp()\n",
    "    end_time = times[-1].timestamp()\n",
    "    num_buckets = round((end_time - start_time) / interval)\n",
    "\n",
    "    # Divide up the announcements into their proper buckets\n",
    "    time_divided = {b: [] for b in range(num_buckets)}\n",
    "\n",
    "    for m in messages:\n",
    "        tstamp = dt.strptime(m.get('mrt_header').get('timestamp'), '%Y-%m-%dT%H:%M:%S%z')\n",
    "        bucket = min(math.floor((tstamp.timestamp() - start_time) / interval), num_buckets - 1)\n",
    "        time_divided[bucket].append(m)\n",
    "    return time_divided"
   ]
  },
  {
   "cell_type": "markdown",
   "metadata": {},
   "source": [
    "We also define a function to plot the number of unique messages in each time interval:"
   ]
  },
  {
   "cell_type": "code",
   "execution_count": 16,
   "metadata": {},
   "outputs": [],
   "source": [
    "def plot_buckets(time_buckets, interval):\n",
    "    \"\"\"Plot the number of messages captured during each specified time interval.\n",
    "    Args:\n",
    "    time_buckets (dict): The dictionary of 'time buckets' that contains each set of\n",
    "        detected messages during each bucket.\n",
    "    interval (int): The actual interval of the time buckets.\n",
    "    \"\"\"\n",
    "    bucket_lens = [len(b) for b in time_buckets.values()]\n",
    "    buckets = ['{:d}-{:d}'.format((b * interval), ((b + 1) * interval)) for b in time_buckets.keys()]\n",
    "    fig, ax = plt.subplots()\n",
    "    fig.set_size_inches(8, 6)\n",
    "    bars = ax.bar(buckets, bucket_lens)\n",
    "    # Remove x ticks if there are many data points\n",
    "    if len(buckets) > 40:\n",
    "        plt.tick_params(labelbottom=False)\n",
    "    plt.xticks(rotation=90)\n",
    "    plt.title('BGP messages divided into time buckets')\n",
    "    plt.ylabel('No. of messages')\n",
    "    plt.xlabel('Time bucket (intervals of seconds)')\n",
    "    plt.show()"
   ]
  },
  {
   "cell_type": "markdown",
   "metadata": {},
   "source": [
    "Let's start with a 20 second interval and see what the general spread looks like."
   ]
  },
  {
   "cell_type": "code",
   "execution_count": 17,
   "metadata": {},
   "outputs": [],
   "source": [
    "interval = 20\n",
    "td = create_buckets(interval, all_announcements)"
   ]
  },
  {
   "cell_type": "markdown",
   "metadata": {},
   "source": [
    "The plot below demonstrates the distribution of messages receieved during 20 second intervals. There are clearly some set periods of downtime, as well as some interesting spikes in the number of raw messages."
   ]
  },
  {
   "cell_type": "code",
   "execution_count": 18,
   "metadata": {},
   "outputs": [
    {
     "data": {
      "image/png": "[encoded data removed]",
      "text/plain": [
       "<Figure size 576x432 with 1 Axes>"
      ]
     },
     "metadata": {
      "needs_background": "light"
     },
     "output_type": "display_data"
    }
   ],
   "source": [
    "plot_buckets(td, interval)"
   ]
  },
  {
   "cell_type": "markdown",
   "metadata": {},
   "source": [
    "Let's adjust the interval to be a bit less granular. The plot below divides the messages captured into buckets of 60 second durations. There are still clear intervals during which no messages were received (at least for this dataset/collector)."
   ]
  },
  {
   "cell_type": "code",
   "execution_count": 19,
   "metadata": {},
   "outputs": [
    {
     "data": {
      "image/png": "[encoded data removed]",
      "text/plain": [
       "<Figure size 576x432 with 1 Axes>"
      ]
     },
     "metadata": {
      "needs_background": "light"
     },
     "output_type": "display_data"
    }
   ],
   "source": [
    "interval = 60\n",
    "td = create_buckets(interval, all_announcements)\n",
    "plot_buckets(td, interval)"
   ]
  },
  {
   "cell_type": "markdown",
   "metadata": {},
   "source": [
    "### Revisiting \"Unique\" Destinations\n",
    "What about if we change the number of total messages to the number of messages with a unique prefix/mask and final destination?"
   ]
  },
  {
   "cell_type": "code",
   "execution_count": 20,
   "metadata": {},
   "outputs": [],
   "source": [
    "# Convert the current buckets to contain only the unique destinations seen during\n",
    "# that time period\n",
    "buckets_unique = {k: get_composite_keys(v) for (k, v) in td.items()}"
   ]
  },
  {
   "cell_type": "code",
   "execution_count": 21,
   "metadata": {},
   "outputs": [
    {
     "data": {
      "image/png": "[encoded data removed]",
      "text/plain": [
       "<Figure size 576x432 with 1 Axes>"
      ]
     },
     "metadata": {
      "needs_background": "light"
     },
     "output_type": "display_data"
    }
   ],
   "source": [
    "# Now plot this new information; function is still applicable\n",
    "plot_buckets(buckets_unique, interval)"
   ]
  },
  {
   "cell_type": "markdown",
   "metadata": {},
   "source": [
    "To make the difference between the number of raw messages per each time period and the number of \"unique\" messages (in terms of prefix, mask, and destination AS) clear, let's plot them together:"
   ]
  },
  {
   "cell_type": "code",
   "execution_count": 22,
   "metadata": {
    "scrolled": false
   },
   "outputs": [
    {
     "data": {
      "image/png": "[encoded data removed]",
      "text/plain": [
       "<Figure size 1296x1080 with 1 Axes>"
      ]
     },
     "metadata": {
      "needs_background": "light"
     },
     "output_type": "display_data"
    }
   ],
   "source": [
    "fig, ax = plt.subplots()\n",
    "fig.set_size_inches(18, 15)\n",
    "\n",
    "intervals = ['{:d}-{:d}'.format(k * interval, (k + 1) * interval) for k in td.keys()]\n",
    "regular_buckets = [len(b) for b in td.values()]\n",
    "u_buckets = [len(b) for b in buckets_unique.values()]\n",
    "\n",
    "r_bar = ax.bar(intervals, regular_buckets)\n",
    "u_bar = ax.bar(intervals, u_buckets)\n",
    "\n",
    "ax.xaxis.label.set_fontsize(18)\n",
    "ax.yaxis.label.set_fontsize(18)\n",
    "plt.xticks(rotation=90)\n",
    "plt.title('Numbers of Raw and Unique Messages', fontsize=18)\n",
    "plt.ylabel('Number of Messages')\n",
    "plt.xlabel('Time Interval (intervals of seconds)')\n",
    "plt.legend((r_bar, u_bar), ('Raw Messages', 'Messages with unique pfx, mask, AS_dest'), fontsize=18)\n",
    "plt.show()"
   ]
  },
  {
   "cell_type": "markdown",
   "metadata": {},
   "source": [
    "Clearly, there is quite a variety of how many of these \"unique\" messages appear during each time period, and how they compare to the raw number of messages. Note the average proportion of \"unique\" messages to raw messages:"
   ]
  },
  {
   "cell_type": "code",
   "execution_count": 23,
   "metadata": {
    "scrolled": true
   },
   "outputs": [
    {
     "data": {
      "text/plain": [
       "0.22988148258158747"
      ]
     },
     "execution_count": 23,
     "metadata": {},
     "output_type": "execute_result"
    }
   ],
   "source": [
    "proportions = [len(b) / len(a) if len(b) > 0 else 0 for (a, b) in zip(td.values(), buckets_unique.values())]\n",
    "statistics.mean(proportions)"
   ]
  },
  {
   "cell_type": "markdown",
   "metadata": {},
   "source": [
    "### Some Thoughts\n",
    "Recall that it is possible for the number of \"unique\" messages to be greater than the actual number of messages, as the BGP4 specification allows for one message to advertise one or many prefix/mask combinations. Therefore, it is possible that one message actually contains several unique pieces of information.\n",
    "\n",
    "Now, how much impact does this temporal difference really have on the different messages? How many of the \"time buckets\" does each \"unique\" message span? Using our previously calculated example, let's find out:"
   ]
  },
  {
   "cell_type": "code",
   "execution_count": 24,
   "metadata": {},
   "outputs": [
    {
     "name": "stdout",
     "output_type": "stream",
     "text": [
      "Average number of time intervals for each message: 2.623839\n",
      "Standard deviation of number of time intervals for each message: 3.743804\n",
      "Maximum number of appearances for any one message: 39\n",
      "Mode number of appearances for any one message: 1\n"
     ]
    }
   ],
   "source": [
    "intervals_per_message = [[1 if c in b else 0 for b in buckets_unique.values()] for c in unique_composites]\n",
    "appearances = [sum(t) for t in intervals_per_message]\n",
    "print('Average number of time intervals for each message: {:f}'.format(statistics.mean(appearances)))\n",
    "print('Standard deviation of number of time intervals for each message: {:f}'.format(statistics.stdev(appearances)))\n",
    "print('Maximum number of appearances for any one message: {:d}'.format(max(appearances)))\n",
    "print('Mode number of appearances for any one message: {:d}'.format(statistics.mode(appearances)))"
   ]
  },
  {
   "cell_type": "markdown",
   "metadata": {},
   "source": [
    "On average, each unique message is found in about 2.6 buckets; perhaps a different time interval should be considered for this reason... However, the mode is 1 bucket per message, as might be expected, and the standard deviation of 3.74 suggests that this data is reasonably clustered around the mean, indicating that not many messages span a great amount of time, at least for this data set."
   ]
  }
 ],
 "metadata": {
  "kernelspec": {
   "display_name": "Python 3",
   "language": "python",
   "name": "python3"
  },
  "language_info": {
   "codemirror_mode": {
    "name": "ipython",
    "version": 3
   },
   "file_extension": ".py",
   "mimetype": "text/x-python",
   "name": "python",
   "nbconvert_exporter": "python",
   "pygments_lexer": "ipython3",
   "version": "3.7.0"
  }
 },
 "nbformat": 4,
 "nbformat_minor": 2
}
